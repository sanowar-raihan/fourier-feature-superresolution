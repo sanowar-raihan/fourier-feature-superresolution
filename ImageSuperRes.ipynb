{
  "nbformat": 4,
  "nbformat_minor": 0,
  "metadata": {
    "colab": {
      "name": "ImageSuperRes.ipynb",
      "private_outputs": true,
      "provenance": [],
      "collapsed_sections": [],
      "authorship_tag": "ABX9TyOlR16asfa139R1HWKXy9H5"
    },
    "kernelspec": {
      "name": "python3",
      "display_name": "Python 3"
    },
    "accelerator": "GPU"
  },
  "cells": [
    {
      "cell_type": "markdown",
      "metadata": {
        "id": "Nt6yPhpKaIzy"
      },
      "source": [
        "## Imports"
      ]
    },
    {
      "cell_type": "code",
      "metadata": {
        "id": "jO9eK_IKaLHz"
      },
      "source": [
        "import math\n",
        "import torch\n",
        "import torch.nn as nn\n",
        "import torch.nn.functional as F\n",
        "from torchvision.io import read_image\n",
        "import torchvision.transforms.functional as F_t\n",
        "from torch.utils.data import Dataset, DataLoader\n",
        "from torchvision.datasets.utils import download_url"
      ],
      "execution_count": null,
      "outputs": []
    },
    {
      "cell_type": "code",
      "metadata": {
        "id": "Dw-MpQ3z9l7X"
      },
      "source": [
        "import matplotlib.pyplot as plt\r\n",
        "from IPython import display"
      ],
      "execution_count": null,
      "outputs": []
    },
    {
      "cell_type": "markdown",
      "metadata": {
        "id": "mbxwHNU3cetU"
      },
      "source": [
        "## Network"
      ]
    },
    {
      "cell_type": "code",
      "metadata": {
        "id": "xRzjzfMBcgb5"
      },
      "source": [
        "class FourierLayer(nn.Module):\n",
        "    def __init__(self, in_features, out_features, scale):\n",
        "        super().__init__()\n",
        "        B = torch.randn(in_features, out_features)*scale\n",
        "        self.register_buffer(\"B\", B)\n",
        "    \n",
        "    def forward(self, x):\n",
        "        x_proj = torch.matmul(2*math.pi*x, self.B)\n",
        "        out = torch.cat([torch.sin(x_proj), torch.cos(x_proj)], dim=-1)\n",
        "        return out"
      ],
      "execution_count": null,
      "outputs": []
    },
    {
      "cell_type": "code",
      "metadata": {
        "id": "QfUCbnUAfCY2"
      },
      "source": [
        "class SignalRegressor(nn.Module):\n",
        "    def __init__(self, in_features, fourier_features,\n",
        "                 hidden_features, hidden_layers, out_features, scale):\n",
        "        super().__init__()\n",
        "\n",
        "        self.net = []\n",
        "        if fourier_features is not None:\n",
        "            self.net.append(FourierLayer(in_features, fourier_features, scale))\n",
        "            self.net.append(nn.Linear(2*fourier_features, hidden_features))\n",
        "            self.net.append(nn.ReLU())\n",
        "        else:\n",
        "            self.net.append(nn.Linear(in_features, hidden_features))\n",
        "            self.net.append(nn.ReLU())\n",
        "        \n",
        "        for i in range(hidden_layers-1):\n",
        "            self.net.append(nn.Linear(hidden_features, hidden_features))\n",
        "            self.net.append(nn.ReLU())\n",
        "\n",
        "        self.net.append(nn.Linear(hidden_features, out_features))\n",
        "        self.net.append(nn.Sigmoid())\n",
        "        self.net = nn.Sequential(*self.net)\n",
        "\n",
        "    def forward(self, x):\n",
        "        out = self.net(x)\n",
        "        return out"
      ],
      "execution_count": null,
      "outputs": []
    },
    {
      "cell_type": "markdown",
      "metadata": {
        "id": "7Mqh_827iF8S"
      },
      "source": [
        "## Dataset"
      ]
    },
    {
      "cell_type": "code",
      "metadata": {
        "id": "kArH8brciHup"
      },
      "source": [
        "class ImageDataset(Dataset):\n",
        "    def __init__(self, image_path):\n",
        "        super().__init__()\n",
        "        self.image_path = image_path\n",
        "\n",
        "    def __getitem__(self, idx):\n",
        "        image = read_image(self.image_path)\n",
        "        image = F_t.convert_image_dtype(image, dtype=torch.float)\n",
        "        image = image.permute(1, 2, 0)\n",
        "\n",
        "        h_axis = torch.linspace(0, 1, steps=image.shape[0])\n",
        "        w_axis = torch.linspace(0, 1, steps=image.shape[1])\n",
        "        grid = torch.stack(torch.meshgrid(h_axis, w_axis), dim=-1)\n",
        "\n",
        "        return grid, image\n",
        "    \n",
        "    def __len__(self):\n",
        "        return 1"
      ],
      "execution_count": null,
      "outputs": []
    },
    {
      "cell_type": "markdown",
      "metadata": {
        "id": "gRWpve7nABYB"
      },
      "source": [
        "## Display Image"
      ]
    },
    {
      "cell_type": "code",
      "metadata": {
        "id": "onR_V-63oV7x"
      },
      "source": [
        "web_url = \"https://upload.wikimedia.org/wikipedia/commons/thumb/3/32/Lego_Color_Bricks.jpg/320px-Lego_Color_Bricks.jpg\"\n",
        "download_url(web_url, \".\", \"lego.jpg\")"
      ],
      "execution_count": null,
      "outputs": []
    },
    {
      "cell_type": "code",
      "metadata": {
        "id": "8iaFO9Poo91n"
      },
      "source": [
        "image_path = \"lego.jpg\"\n",
        "display.Image(image_path)"
      ],
      "execution_count": null,
      "outputs": []
    },
    {
      "cell_type": "markdown",
      "metadata": {
        "id": "fSxaLGVPpKZU"
      },
      "source": [
        "## Dataloader"
      ]
    },
    {
      "cell_type": "code",
      "metadata": {
        "id": "tYpXjZ58pJas"
      },
      "source": [
        "image_data = ImageDataset(image_path)\n",
        "image_loader = DataLoader(image_data, batch_size=1)"
      ],
      "execution_count": null,
      "outputs": []
    },
    {
      "cell_type": "markdown",
      "metadata": {
        "id": "UaFJ3NvWlLP2"
      },
      "source": [
        "## Super-Resolution\r\n",
        "increase image resoltion by 2x"
      ]
    },
    {
      "cell_type": "code",
      "metadata": {
        "id": "ALeRX7Wfu3OT"
      },
      "source": [
        "device = torch.device(\"cuda\" if torch.cuda.is_available() else \"cpu\")\n",
        "total_steps = 1000\n",
        "summary_interval = 100\n",
        "\n",
        "grid, image = next(iter(image_loader))\n",
        "grid, image = grid.squeeze().to(device), image.squeeze().to(device)\n",
        "train_coords, train_rgbs = grid[::2, ::2].reshape(-1, 2), image[::2, ::2].reshape(-1, 3)  # use every other pixel for training\n",
        "test_coords, test_rgbs = grid.reshape(-1, 2), image.reshape(-1, 3)  # use all the pixels for evaluation\n",
        "\n",
        "image_regressor = SignalRegressor(in_features=2, fourier_features=256,\n",
        "                                  hidden_features=256, hidden_layers=4, out_features=3, scale=10).to(device)\n",
        "optim = torch.optim.Adam(lr=1e-4, params=image_regressor.parameters())\n",
        "\n",
        "for step in range(1, total_steps+1):\n",
        "    image_regressor.train()\n",
        "    optim.zero_grad()\n",
        "    output = image_regressor(train_coords)\n",
        "    train_loss = F.mse_loss(output, train_rgbs)\n",
        "    train_loss.backward()\n",
        "    optim.step()\n",
        "\n",
        "    if not step % summary_interval:\n",
        "        image_regressor.eval()\n",
        "        with torch.no_grad():\n",
        "            prediction = image_regressor(test_coords)\n",
        "            test_loss = F.mse_loss(prediction, test_rgbs)\n",
        "            test_psnr = -10*torch.log10(test_loss)\n",
        "\n",
        "            print(f\"Step: {step}, Test PSNR: {test_psnr.item():.6f}\")\n",
        "            fig, axes = plt.subplots(1, 2, figsize=(15, 5))\n",
        "            axes[0].imshow(prediction.reshape_as(image).cpu())\n",
        "            axes[1].imshow(image.cpu())\n",
        "            plt.show()"
      ],
      "execution_count": null,
      "outputs": []
    }
  ]
}