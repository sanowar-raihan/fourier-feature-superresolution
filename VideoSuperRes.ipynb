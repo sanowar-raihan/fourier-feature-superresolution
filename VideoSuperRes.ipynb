{
  "nbformat": 4,
  "nbformat_minor": 0,
  "metadata": {
    "colab": {
      "name": "VideoSuperRes.ipynb",
      "private_outputs": true,
      "provenance": [],
      "collapsed_sections": [],
      "authorship_tag": "ABX9TyMl65aXY1/uoSFHoU8eRW8y"
    },
    "kernelspec": {
      "name": "python3",
      "display_name": "Python 3"
    },
    "accelerator": "GPU"
  },
  "cells": [
    {
      "cell_type": "markdown",
      "metadata": {
        "id": "kn7QCFSQHY_X"
      },
      "source": [
        "## Install PyAV\r\n",
        "torchvision requires pyav as video backend"
      ]
    },
    {
      "cell_type": "code",
      "metadata": {
        "id": "OCYw-HacCRCf"
      },
      "source": [
        "!pip install av"
      ],
      "execution_count": null,
      "outputs": []
    },
    {
      "cell_type": "markdown",
      "metadata": {
        "id": "vi9opLreFcIH"
      },
      "source": [
        "## Imports"
      ]
    },
    {
      "cell_type": "code",
      "metadata": {
        "id": "Jw6JgrjRFil-"
      },
      "source": [
        "import math\r\n",
        "import torch\r\n",
        "import torch.nn as nn\r\n",
        "import torch.nn.functional as F\r\n",
        "from torchvision.io import read_video, write_video\r\n",
        "import torchvision.transforms.functional as F_t\r\n",
        "from torch.utils.data import Dataset, DataLoader\r\n",
        "from torchvision.datasets.utils import download_url"
      ],
      "execution_count": null,
      "outputs": []
    },
    {
      "cell_type": "code",
      "metadata": {
        "id": "6fLwW4PMIKpy"
      },
      "source": [
        "from IPython.display import HTML\r\n",
        "from base64 import b64encode"
      ],
      "execution_count": null,
      "outputs": []
    },
    {
      "cell_type": "markdown",
      "metadata": {
        "id": "5atApGuoIf-n"
      },
      "source": [
        "## Network"
      ]
    },
    {
      "cell_type": "code",
      "metadata": {
        "id": "SkfJTqJLIk6r"
      },
      "source": [
        "class FourierLayer(nn.Module):\r\n",
        "    def __init__(self, in_features, out_features, scale):\r\n",
        "        super().__init__()\r\n",
        "        B = torch.randn(in_features, out_features)*scale\r\n",
        "        self.register_buffer(\"B\", B)\r\n",
        "    \r\n",
        "    def forward(self, x):\r\n",
        "        x_proj = torch.matmul(2*math.pi*x, self.B)\r\n",
        "        out = torch.cat([torch.sin(x_proj), torch.cos(x_proj)], dim=-1)\r\n",
        "        return out"
      ],
      "execution_count": null,
      "outputs": []
    },
    {
      "cell_type": "code",
      "metadata": {
        "id": "oDnWL3tDKQaQ"
      },
      "source": [
        "class SignalRegressor(nn.Module):\r\n",
        "    def __init__(self, in_features, fourier_features,\r\n",
        "                 hidden_features, hidden_layers, out_features, scale):\r\n",
        "        super().__init__()\r\n",
        "\r\n",
        "        self.net = []\r\n",
        "        if fourier_features is not None:\r\n",
        "            self.net.append(FourierLayer(in_features, fourier_features, scale))\r\n",
        "            self.net.append(nn.Linear(2*fourier_features, hidden_features))\r\n",
        "            self.net.append(nn.ReLU())\r\n",
        "        else:\r\n",
        "            self.net.append(nn.Linear(in_features, hidden_features))\r\n",
        "            self.net.append(nn.ReLU())\r\n",
        "        \r\n",
        "        for i in range(hidden_layers-1):\r\n",
        "            self.net.append(nn.Linear(hidden_features, hidden_features))\r\n",
        "            self.net.append(nn.ReLU())\r\n",
        "        \r\n",
        "        self.net.append(nn.Linear(hidden_features, out_features))\r\n",
        "        self.net.append(nn.Sigmoid())\r\n",
        "        self.net = nn.Sequential(*self.net)\r\n",
        "    \r\n",
        "    def forward(self, x):\r\n",
        "        out = self.net(x)\r\n",
        "        return out"
      ],
      "execution_count": null,
      "outputs": []
    },
    {
      "cell_type": "markdown",
      "metadata": {
        "id": "cCzlsg45Np6c"
      },
      "source": [
        "## Dataset"
      ]
    },
    {
      "cell_type": "code",
      "metadata": {
        "id": "afCKJ80uNZ7m"
      },
      "source": [
        "class VideoDataset(Dataset):\r\n",
        "    def __init__(self, video_path):\r\n",
        "        super().__init__()\r\n",
        "        self.vframes, self.aframes, self.info = read_video(video_path, pts_unit=\"sec\")\r\n",
        "        self.nframes = self.vframes.shape[0]\r\n",
        "    \r\n",
        "    def __getitem__(self, idx):\r\n",
        "        img = self.vframes[idx]\r\n",
        "        img = F_t.convert_image_dtype(img, dtype=torch.float)\r\n",
        "\r\n",
        "        height_axis = torch.linspace(0, 1, steps=img.shape[0])\r\n",
        "        width_axis = torch.linspace(0, 1, steps=img.shape[1])\r\n",
        "        time_axis = torch.tensor(idx/(self.nframes-1))\r\n",
        "        tt, hh, ww = torch.meshgrid(time_axis, height_axis, width_axis)\r\n",
        "        grid = torch.stack([tt, hh, ww], dim=-1).squeeze()\r\n",
        "\r\n",
        "        return grid, img\r\n",
        "    \r\n",
        "    def __len__(self):\r\n",
        "        return self.nframes"
      ],
      "execution_count": null,
      "outputs": []
    },
    {
      "cell_type": "markdown",
      "metadata": {
        "id": "_gzxhStQQ_rm"
      },
      "source": [
        "## Display Video"
      ]
    },
    {
      "cell_type": "code",
      "metadata": {
        "id": "dJMFI0JGQ7R9"
      },
      "source": [
        "web_url = \"https://sample-videos.com/video123/mp4/240/big_buck_bunny_240p_1mb.mp4\"\r\n",
        "download_url(web_url, \".\", \"bunny.mp4\")"
      ],
      "execution_count": null,
      "outputs": []
    },
    {
      "cell_type": "code",
      "metadata": {
        "id": "H1V7bNWhRPmw"
      },
      "source": [
        "video_path = \"bunny.mp4\"\r\n",
        "\r\n",
        "mp4 = open(video_path,'rb').read()\r\n",
        "video_url = \"data:video/mp4;base64,\" + b64encode(mp4).decode()\r\n",
        "HTML(\"\"\"<video controls> <source src=\"%s\" type=\"video/mp4\"> </video>\"\"\" % video_url)"
      ],
      "execution_count": null,
      "outputs": []
    },
    {
      "cell_type": "markdown",
      "metadata": {
        "id": "whnW0GySRrbQ"
      },
      "source": [
        "## Dataloader"
      ]
    },
    {
      "cell_type": "code",
      "metadata": {
        "id": "BdHi-_wvRilA"
      },
      "source": [
        "video_data = VideoDataset(video_path)\r\n",
        "video_loader = DataLoader(video_data, batch_size=8)"
      ],
      "execution_count": null,
      "outputs": []
    },
    {
      "cell_type": "markdown",
      "metadata": {
        "id": "IVu3tJmtUzgO"
      },
      "source": [
        "## Train and Evaluate"
      ]
    },
    {
      "cell_type": "code",
      "metadata": {
        "id": "JWcxOsSZR72F"
      },
      "source": [
        "device = torch.device(\"cuda\" if torch.cuda.is_available() else \"cpu\")\r\n",
        "total_epochs = 1000\r\n",
        "summary_interval = 100\r\n",
        "\r\n",
        "video_regressor = SignalRegressor(in_features=3, fourier_features=256,\r\n",
        "                                  hidden_features=256, hidden_layers=4, out_features=3, scale=5).to(device)\r\n",
        "\r\n",
        "optim = torch.optim.Adam(lr=1e-3, params=video_regressor.parameters())\r\n",
        "\r\n",
        "for epoch in range(1, total_epochs+1):\r\n",
        "    video_regressor.train()\r\n",
        "    for grids, imgs in video_loader:\r\n",
        "        grids, imgs = grids[::2, ::2, ::2], imgs[::2, ::2, ::2]  # use every other frame and every other pixel for training\r\n",
        "        grids, imgs = grids.to(device), imgs.to(device)\r\n",
        "        coords, rgbs = grids.reshape(-1, 3), imgs.reshape(-1, 3)\r\n",
        "        optim.zero_grad()\r\n",
        "        output = video_regressor(coords)\r\n",
        "        train_loss = F.mse_loss(output, rgbs)\r\n",
        "        train_loss.backward()\r\n",
        "        optim.step()\r\n",
        "\r\n",
        "    if not epoch % summary_interval:\r\n",
        "        video_regressor.eval()\r\n",
        "        test_loss = 0\r\n",
        "        test_count = 0\r\n",
        "        with torch.no_grad():\r\n",
        "            for grids, imgs in video_loader:\r\n",
        "                grids, imgs = grids.to(device), imgs.to(device)\r\n",
        "                coords, rgbs = grids.reshape(-1, 3), imgs.reshape(-1, 3)  # use all the pixels for evaluation\r\n",
        "                prediction = video_regressor(coords)\r\n",
        "                batch_loss = F.mse_loss(prediction, rgbs)\r\n",
        "                batch_size = coords.shape[0]\r\n",
        "                test_loss = (test_loss*test_count + batch_loss*batch_size) / (test_count + batch_size)\r\n",
        "                test_count += batch_size\r\n",
        "            test_psnr = -10*torch.log10(test_loss)\r\n",
        "            print(f\"Epoch: {epoch}, Test PSNR: {test_psnr.item():.6f}\")"
      ],
      "execution_count": null,
      "outputs": []
    },
    {
      "cell_type": "markdown",
      "metadata": {
        "id": "siXGTyVpYuy8"
      },
      "source": [
        "## SpatioTempral Super-Resolution Result\r\n",
        "increase video frame rate by 2x \\\r\n",
        "increase frame resolution by 2x"
      ]
    },
    {
      "cell_type": "code",
      "metadata": {
        "id": "Od2T2orSYyAv"
      },
      "source": [
        "super_video = []\r\n",
        "video_regressor.eval()\r\n",
        "with torch.no_grad():\r\n",
        "    for grids, imgs in video_loader:\r\n",
        "        grids, imgs = grids.to(device), imgs.to(device)\r\n",
        "        coords, rgbs = grids.reshape(-1, 3), imgs.reshape(-1, 3)\r\n",
        "        prediction = video_regressor(coords)\r\n",
        "        super_video.append(prediction)\r\n",
        "    super_video = torch.cat(super_video, dim=0)\r\n",
        "    super_video = super_video.reshape_as(video_data.vframes)\r\n",
        "    super_video = F_t.convert_image_dtype(super_video, dtype=torch.uint8)"
      ],
      "execution_count": null,
      "outputs": []
    },
    {
      "cell_type": "code",
      "metadata": {
        "id": "Y1I1obW0e-TM"
      },
      "source": [
        "super_path = \"bunny_super.mp4\"\r\n",
        "write_video(super_path, super_video.cpu(), fps=video_data.info[\"video_fps\"])\r\n",
        "\r\n",
        "# display the super-resolved video\r\n",
        "mp4 = open(super_path,'rb').read()\r\n",
        "video_url = \"data:video/mp4;base64,\" + b64encode(mp4).decode()\r\n",
        "HTML(\"\"\"<video controls> <source src=\"%s\" type=\"video/mp4\"> </video>\"\"\" % video_url)"
      ],
      "execution_count": null,
      "outputs": []
    }
  ]
}